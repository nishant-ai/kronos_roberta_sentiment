{
 "cells": [
  {
   "cell_type": "code",
   "execution_count": 1,
   "id": "592f91cd",
   "metadata": {},
   "outputs": [],
   "source": [
    "from transformers import AutoTokenizer\n",
    "from transformers import AutoModelForSequenceClassification\n",
    "from scipy.special import softmax"
   ]
  },
  {
   "cell_type": "code",
   "execution_count": 2,
   "id": "de1055a8",
   "metadata": {},
   "outputs": [],
   "source": [
    "MODEL = f\"cardiffnlp/twitter-roberta-base-sentiment\"\n",
    "tokenizer = AutoTokenizer.from_pretrained(MODEL)\n",
    "model = AutoModelForSequenceClassification.from_pretrained(MODEL)"
   ]
  },
  {
   "cell_type": "code",
   "execution_count": 5,
   "id": "c8206140",
   "metadata": {},
   "outputs": [
    {
     "data": {
      "text/plain": [
       "array([0.7859927 , 0.18950933, 0.02449797], dtype=float32)"
      ]
     },
     "execution_count": 5,
     "metadata": {},
     "output_type": "execute_result"
    }
   ],
   "source": [
    "# TEST\n",
    "\n",
    "example = \"I don't particularly Hate the Avengers\"\n",
    "encoded_text = tokenizer(example, return_tensors=\"pt\")\n",
    "output = model(**encoded_text)\n",
    "scores = output[0][0].detach().numpy()\n",
    "scores = softmax(scores)\n",
    "\n",
    "# - neu +\n",
    "scores"
   ]
  },
  {
   "cell_type": "code",
   "execution_count": 9,
   "id": "3f11dcb9",
   "metadata": {},
   "outputs": [],
   "source": [
    "# Deep Learning Roberta Based Sentiment Analysis\n",
    "\n",
    "def roberta(sentence):\n",
    "    encoded_text = tokenizer(sentence, return_tensors=\"pt\")\n",
    "    output = model(**encoded_text)\n",
    "    \n",
    "    scores = output[0][0].detach().numpy()\n",
    "    scores = softmax(scores)\n",
    "    \n",
    "#     scores_dict = {\n",
    "#         'roberta_neg': scores[0], # Return -1\n",
    "#         'roberta_neu': scores[1], # Return 0\n",
    "#         'roberat_pos': scores[2]  # Return 1\n",
    "#     }\n",
    "    \n",
    "    if scores[0] > scores [1] and scores[0] > scores[2]: # Negative\n",
    "        return \"NEG\"\n",
    "    elif scores[1] > scores [2] and scores[1] > scores[0]: # Neutral\n",
    "        return \"NEU\"\n",
    "    elif scores[2] > scores [1] and scores[2] > scores[0]: # Positive\n",
    "        return \"POS\"\n",
    "\n",
    "    else: # Failed\n",
    "        return \"ERR\""
   ]
  },
  {
   "cell_type": "code",
   "execution_count": 10,
   "id": "70807eb3",
   "metadata": {},
   "outputs": [
    {
     "data": {
      "text/plain": [
       "'POS'"
      ]
     },
     "execution_count": 10,
     "metadata": {},
     "output_type": "execute_result"
    }
   ],
   "source": [
    "roberta(\"So Elegant, So Beautiful, Just Looking like a Wow\")"
   ]
  },
  {
   "cell_type": "code",
   "execution_count": null,
   "id": "01cc9845",
   "metadata": {},
   "outputs": [],
   "source": []
  }
 ],
 "metadata": {
  "kernelspec": {
   "display_name": "Python 3 (ipykernel)",
   "language": "python",
   "name": "python3"
  },
  "language_info": {
   "codemirror_mode": {
    "name": "ipython",
    "version": 3
   },
   "file_extension": ".py",
   "mimetype": "text/x-python",
   "name": "python",
   "nbconvert_exporter": "python",
   "pygments_lexer": "ipython3",
   "version": "3.11.5"
  }
 },
 "nbformat": 4,
 "nbformat_minor": 5
}
